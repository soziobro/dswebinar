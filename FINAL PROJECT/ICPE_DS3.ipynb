{
  "nbformat": 4,
  "nbformat_minor": 0,
  "metadata": {
    "kernelspec": {
      "display_name": "Python 3",
      "language": "python",
      "name": "python3"
    },
    "language_info": {
      "codemirror_mode": {
        "name": "ipython",
        "version": 3
      },
      "file_extension": ".py",
      "mimetype": "text/x-python",
      "name": "python",
      "nbconvert_exporter": "python",
      "pygments_lexer": "ipython3",
      "version": "3.7.7"
    },
    "colab": {
      "name": "ICPE_DS3.ipynb",
      "provenance": [],
      "collapsed_sections": []
    }
  },
  "cells": [
    {
      "cell_type": "markdown",
      "metadata": {
        "id": "FcI7yYsGrrIO"
      },
      "source": [
        "# Forecasting Electricity Load of Houston\n",
        "(40 points)\n",
        "### **Data Set**\n",
        "A Cross-Domain Data Hub to Track the Impact of COVID-19 on U.S. Electricity Markets\n",
        "\n",
        "https://github.com/tamu-engineering-research/COVID-EMDA\n",
        "\n",
        "Particularly, we will use the electricity load data of Houston.\n",
        "\n",
        "https://raw.githubusercontent.com/tamu-engineering-research/COVID-EMDA/master/data_release/ercot/ercot_houston_load.csv\n",
        "\n",
        "### **Problem**\n",
        "1. carry out component decomposition for the electricity load of Houston\n",
        "\n",
        "2. build an ARIMA model with an optimal order (p, d, q)\n",
        "\n",
        "3. make a prediction for next 30 days, plot it out, and explain your results."
      ]
    },
    {
      "cell_type": "markdown",
      "metadata": {
        "id": "c5BTEuYQeGlZ"
      },
      "source": [
        "## Download and Process Dataset\n",
        "**Please don't change this section!**\n",
        "\n",
        "You can use the dataframe `df` for the rest of your analysis."
      ]
    },
    {
      "cell_type": "code",
      "metadata": {
        "id": "NvsZ4lnle1Gv"
      },
      "source": [
        "DATA_URL=\"https://raw.githubusercontent.com/tamu-engineering-research/COVID-EMDA/master/data_release/ercot/ercot_houston_load.csv\""
      ],
      "execution_count": null,
      "outputs": []
    },
    {
      "cell_type": "code",
      "metadata": {
        "id": "aiG7AtdBeN3c"
      },
      "source": [
        "# import pandas, numpy and seaborn. sns.set() will set multiple theme parameters in one step for seaborn\n",
        "import pandas as pd\n",
        "import matplotlib.pyplot as plt\n",
        "import numpy as np\n",
        "import seaborn as sns\n",
        "sns.set()"
      ],
      "execution_count": null,
      "outputs": []
    },
    {
      "cell_type": "code",
      "metadata": {
        "id": "KUhdnJDkeX5N"
      },
      "source": [
        "# read the data and change the index to datetime index to facilitate the analysis.\n",
        "df=pd.read_csv(DATA_URL)\n",
        "df[\"date\"] = pd.to_datetime(df[\"date\"])\n",
        "df.set_index(pd.to_datetime(df.date, format=\"%Y-%m-%d\"), inplace=True)\n",
        "df.drop([\"date\"], axis=1, inplace=True)\n",
        "df.head(5)"
      ],
      "execution_count": null,
      "outputs": []
    },
    {
      "cell_type": "code",
      "metadata": {
        "id": "7kR7LJwc1P_1"
      },
      "source": [
        "df['load']= df.sum(axis=1)\n",
        "df = df[[\"load\"]]\n",
        "df.head(5)"
      ],
      "execution_count": null,
      "outputs": []
    },
    {
      "cell_type": "code",
      "metadata": {
        "id": "WXiR9iGOaOio"
      },
      "source": [
        "df.plot()"
      ],
      "execution_count": null,
      "outputs": []
    },
    {
      "cell_type": "markdown",
      "metadata": {
        "id": "AqRWqN7TZrrq"
      },
      "source": [
        "## Component Decomposition"
      ]
    },
    {
      "cell_type": "code",
      "metadata": {
        "id": "-6_8ieoNZulU"
      },
      "source": [
        ""
      ],
      "execution_count": null,
      "outputs": []
    },
    {
      "cell_type": "markdown",
      "metadata": {
        "id": "N_fDTK3vZvgB"
      },
      "source": [
        "## ARIMA Model and Forecasting"
      ]
    },
    {
      "cell_type": "code",
      "metadata": {
        "id": "gFI11LxkZx4Y"
      },
      "source": [
        ""
      ],
      "execution_count": null,
      "outputs": []
    }
  ]
}