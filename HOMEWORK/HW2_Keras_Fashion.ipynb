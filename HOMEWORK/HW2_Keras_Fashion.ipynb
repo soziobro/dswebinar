{
  "nbformat": 4,
  "nbformat_minor": 2,
  "metadata": {
    "kernelspec": {
      "display_name": "Python 3",
      "language": "python",
      "name": "python3"
    },
    "language_info": {
      "codemirror_mode": {
        "name": "ipython",
        "version": 3
      },
      "file_extension": ".py",
      "mimetype": "text/x-python",
      "name": "python",
      "nbconvert_exporter": "python",
      "pygments_lexer": "ipython3",
      "version": "3.7.7"
    },
    "colab": {
      "name": "HW2_Keras_Fashion.ipynb",
      "provenance": [],
      "collapsed_sections": []
    }
  },
  "cells": [
    {
      "cell_type": "markdown",
      "source": [
        "# Classify Fashion Icons with Keras\n",
        "[Jian Tao](https://coehpc.engr.tamu.edu/people/jian-tao/), Texas A&M University\n",
        "\n",
        "Sept 20, 2021\n",
        "\n",
        "1. Train a deep learning model with only Dense layers with the same number of neurons in each layer. Tune the number of neurons and other hyperparameters to reach at least 87% test accuracy (30 pts).\n",
        "2. Double the number of layers used in #1 and retrain the model without changing anything else and explain the accuracy you observe. Is the new model better? If yes, why? If not, why not? (20 pts).\n",
        "3. Double the number of neurons in each layer used in #1 and retrain the model without changing anything else and explain the accuracy you observe. Is the new model better? If yes, why? If not, why not? (20 pts)\n",
        "4. What else can you do to improve the accuracy of your model? (30 pts)\n",
        "Please propose up to 3 strategies. 10 pts will be given for each proved strategy. You just need to apply your strategy and retrain the model to prove your strategy."
      ],
      "metadata": {
        "id": "Tn0LUzTkL8Cm"
      }
    },
    {
      "cell_type": "code",
      "execution_count": null,
      "source": [
        "%load_ext tensorboard\r\n",
        "from tensorflow.keras import utils, callbacks, models\r\n",
        "from tensorflow.keras.datasets import fashion_mnist\r\n",
        "from tensorflow.keras.models import Sequential\r\n",
        "from tensorflow.keras.layers import Dense,Flatten\r\n",
        "import matplotlib.pyplot as plt\r\n",
        "import numpy as np\r\n",
        "import os, datetime"
      ],
      "outputs": [],
      "metadata": {
        "id": "r84SykyrL8Cm"
      }
    },
    {
      "cell_type": "code",
      "execution_count": null,
      "source": [
        "(X_train, y_train), (X_test, y_test) = fashion_mnist.load_data()"
      ],
      "outputs": [
        {
          "output_type": "stream",
          "name": "stdout",
          "text": [
            "Downloading data from https://storage.googleapis.com/tensorflow/tf-keras-datasets/train-labels-idx1-ubyte.gz\n",
            "32768/29515 [=================================] - 0s 0us/step\n",
            "40960/29515 [=========================================] - 0s 0us/step\n",
            "Downloading data from https://storage.googleapis.com/tensorflow/tf-keras-datasets/train-images-idx3-ubyte.gz\n",
            "26427392/26421880 [==============================] - 0s 0us/step\n",
            "26435584/26421880 [==============================] - 0s 0us/step\n",
            "Downloading data from https://storage.googleapis.com/tensorflow/tf-keras-datasets/t10k-labels-idx1-ubyte.gz\n",
            "16384/5148 [===============================================================================================] - 0s 0us/step\n",
            "Downloading data from https://storage.googleapis.com/tensorflow/tf-keras-datasets/t10k-images-idx3-ubyte.gz\n",
            "4423680/4422102 [==============================] - 0s 0us/step\n",
            "4431872/4422102 [==============================] - 0s 0us/step\n"
          ]
        }
      ],
      "metadata": {
        "id": "cmxng7RWL8Cm",
        "colab": {
          "base_uri": "https://localhost:8080/"
        },
        "outputId": "24dcf358-cdc7-4990-c32c-3c686cc4338a"
      }
    },
    {
      "cell_type": "code",
      "execution_count": null,
      "source": [
        "# show the first image in the data set\n",
        "plt.imshow(X_train[0], cmap=\"gray\") # Import the image\n",
        "plt.show() # Plot the image"
      ],
      "outputs": [
        {
          "output_type": "display_data",
          "data": {
            "image/png": "[encoded data removed]",
            "text/plain": [
              "<Figure size 432x288 with 1 Axes>"
            ]
          },
          "metadata": {
            "needs_background": "light"
          }
        }
      ],
      "metadata": {
        "id": "cXpAfP_dL8Cn",
        "colab": {
          "base_uri": "https://localhost:8080/",
          "height": 265
        },
        "outputId": "54bf3c9e-ee05-46fd-d30c-6ac2b4eea85c"
      }
    }
  ]
}