{
  "nbformat": 4,
  "nbformat_minor": 2,
  "metadata": {
    "kernelspec": {
      "name": "python3",
      "display_name": "Python 3.8.8 64-bit ('base': conda)"
    },
    "language_info": {
      "codemirror_mode": {
        "name": "ipython",
        "version": 3
      },
      "file_extension": ".py",
      "mimetype": "text/x-python",
      "name": "python",
      "nbconvert_exporter": "python",
      "pygments_lexer": "ipython3",
      "version": "3.8.8"
    },
    "colab": {
      "name": "HW2_Keras_Fashion.ipynb",
      "provenance": [],
      "collapsed_sections": []
    },
    "interpreter": {
      "hash": "7066266032faeec0e5e11df22f4f5bb0320dd36c0947a4faded03485d0962d4d"
    }
  },
  "cells": [
    {
      "cell_type": "markdown",
      "source": [
        "# Classify Fashion Icons with Keras\r\n",
        "[Jian Tao](https://coehpc.engr.tamu.edu/people/jian-tao/), Texas A&M University\r\n",
        "\r\n",
        "Sept 20, 2021\r\n",
        "\r\n",
        "1. Train a deep learning model with only Dense layers with the same number of neurons in each layer. Tune the number of neurons and other hyperparameters to reach at least 87% test accuracy (30 pts).\r\n",
        "2. Double the number of layers used in #1 and retrain the model without changing anything else and explain the accuracy you observe. Is the new model better? If yes, why? If not, why not? (20 pts).\r\n",
        "3. Double the number of neurons in each layer used in #1 and retrain the model without changing anything else and explain the accuracy you observe. Is the new model better? If yes, why? If not, why not? (20 pts)\r\n",
        "4. What else can you do to improve the accuracy of your model? (30 pts)\r\n",
        "Please propose up to 3 strategies. 10 pts will be given for each proved strategy. You just need to apply your strategy and retrain the model to prove your strategy."
      ],
      "metadata": {
        "id": "Tn0LUzTkL8Cm"
      }
    },
    {
      "cell_type": "markdown",
      "source": [
        "# Homework 2 Questions\r\n",
        "1. The following model parameters gave a model accuracy of 87.02% with 10 epochs.\r\n",
        "<br>\r\n",
        "<br>\r\n",
        "model = Sequential() <br>\r\n",
        "model.add(Flatten()) <br>\r\n",
        "model.add(Dense(40, activation='relu')) <br>\r\n",
        "model.add(Dense(10, activation='softmax')) <br> <br>\r\n",
        "\r\n",
        "\r\n",
        "2. The addition of a second hidden layer changed the accuracy to the 87.43% with 10 epochs. This model runs slightly more accurately and with similar val accuracy, therefore I would choose the simpler model used in question 1.\r\n",
        "<br>\r\n",
        "<br>\r\n",
        "model = Sequential() <br>\r\n",
        "model.add(Flatten()) <br>\r\n",
        "model.add(Dense(40, activation='relu')) <br>\r\n",
        "model.add(Dense(40, activation='relu')) <br>\r\n",
        "model.add(Dense(10, activation='softmax')) <br> <br>\r\n",
        "\r\n",
        "3. Using the model parameters below gave an accuracy of 87.49% with 10 epochs. This model is slightly more accurate than the model in question 1 with the same ammount of complexity. Therefore I would consider this an improvement.\r\n",
        "<br>\r\n",
        "<br>\r\n",
        "model = Sequential() <br>\r\n",
        "model.add(Flatten()) <br>\r\n",
        "model.add(Dense(80, activation='relu')) <br>\r\n",
        "model.add(Dense(10, activation='softmax')) <br> <br>\r\n",
        "\r\n",
        "4. What else can you do to improve the accuracy of your model? (30 pts)\r\n",
        "Please propose up to 3 strategies. 10 pts will be given for each proved strategy. You just need to apply your strategy and retrain the model to prove your strategy.\r\n",
        "<br>\r\n",
        "<br>\r\n",
        "I) Add more hidden layers of same density\r\n",
        "<br>\r\n",
        "<br>\r\n",
        "model = Sequential() <br>\r\n",
        "model.add(Flatten()) <br>\r\n",
        "model.add(Dense(40, activation='relu')) <br>\r\n",
        "model.add(Dense(40, activation='relu')) <br>\r\n",
        "model.add(Dense(40, activation='relu')) <br>\r\n",
        "model.add(Dense(10, activation='softmax')) <br> <br>\r\n",
        "A 3rd layer with a dense value of 40 was added the the model used in question 1. This method yielded an accuracy of 87.32%. Since this is more complex than the model used in question 2 and became more inaccurate, this methodology may not be suitible for the problem solved.<br><br>\r\n",
        "II) Run more epochs\r\n",
        "<br>\r\n",
        "<br>\r\n",
        "model = Sequential() <br>\r\n",
        "model.add(Flatten()) <br>\r\n",
        "model.add(Dense(40, activation='relu')) <br>\r\n",
        "model.add(Dense(10, activation='softmax')) <br> <br>\r\n",
        "<br>Running the model used in question one with 20 epochs yielded an accuracy of 87.62%. I would consider this an accuracy improvement but this method takes longer to train and could give diminishing returns by overtraining.<br><br>\r\n",
        "III)Further increase density of already existing hidden layers\r\n",
        "<br>\r\n",
        "<br>\r\n",
        "model = Sequential() <br>\r\n",
        "model.add(Flatten()) <br>\r\n",
        "model.add(Dense(128, activation='relu')) <br>\r\n",
        "model.add(Dense(10, activation='softmax')) <br> <br>\r\n",
        "Increasing the density of the single hidden layer to 128, as seen in the example given, yields an accuracy of 88.33%. This was by more the most effective method of increasing accuracy without negatively affecting the model runtime."
      ],
      "metadata": {
        "id": "gVOqXfAbjjNq"
      }
    },
    {
      "cell_type": "code",
      "execution_count": 183,
      "source": [
        "%load_ext tensorboard\r\n",
        "from tensorflow.keras import utils, callbacks, models\r\n",
        "from tensorflow.keras.datasets import fashion_mnist\r\n",
        "from tensorflow.keras.models import Sequential\r\n",
        "from tensorflow.keras.layers import Dense,Flatten\r\n",
        "import matplotlib.pyplot as plt\r\n",
        "import numpy as np\r\n",
        "import os, datetime"
      ],
      "outputs": [
        {
          "output_type": "stream",
          "name": "stdout",
          "text": [
            "The tensorboard extension is already loaded. To reload it, use:\n",
            "  %reload_ext tensorboard\n"
          ]
        }
      ],
      "metadata": {
        "id": "r84SykyrL8Cm",
        "colab": {
          "base_uri": "https://localhost:8080/"
        },
        "outputId": "7fd276da-d5dd-4bed-b12b-42c5fe8b0146"
      }
    },
    {
      "cell_type": "code",
      "execution_count": 184,
      "source": [
        "(X_train, y_train), (X_test, y_test) = fashion_mnist.load_data()"
      ],
      "outputs": [],
      "metadata": {
        "id": "cmxng7RWL8Cm"
      }
    },
    {
      "cell_type": "code",
      "execution_count": 185,
      "source": [
        "# show the first image in the data set\r\n",
        "plt.imshow(X_train[0], cmap=\"gray\") # Import the image\r\n",
        "plt.show() # Plot the image"
      ],
      "outputs": [
        {
          "output_type": "display_data",
          "data": {
            "image/png": "[encoded data removed]",
            "text/plain": [
              "<Figure size 432x288 with 1 Axes>"
            ]
          },
          "metadata": {
            "needs_background": "light"
          }
        }
      ],
      "metadata": {
        "id": "cXpAfP_dL8Cn",
        "colab": {
          "base_uri": "https://localhost:8080/",
          "height": 265
        },
        "outputId": "6e56d947-5473-4ace-93c6-623d71ace9f0"
      }
    },
    {
      "cell_type": "code",
      "execution_count": 186,
      "source": [
        "# show the first 15 images in the data set.\r\n",
        "fig = plt.figure()\r\n",
        "for i in range(15):\r\n",
        "    plt.subplot(3,5,i+1)\r\n",
        "    plt.tight_layout()\r\n",
        "    plt.imshow(X_train[i], cmap='gray', interpolation='none')\r\n",
        "    plt.title(\"Digit: {}\".format(y_train[i]))\r\n",
        "    plt.xticks([])\r\n",
        "    plt.yticks([])"
      ],
      "outputs": [
        {
          "output_type": "display_data",
          "data": {
            "image/png": "[encoded data removed]",
            "text/plain": [
              "<Figure size 432x288 with 15 Axes>"
            ]
          },
          "metadata": {}
        }
      ],
      "metadata": {
        "colab": {
          "base_uri": "https://localhost:8080/",
          "height": 277
        },
        "id": "lWLdygYjkJN3",
        "outputId": "61443405-a5b7-4882-cf5c-330ef9d5c023"
      }
    },
    {
      "cell_type": "code",
      "execution_count": 187,
      "source": [
        "# Normalize the train dataset\r\n",
        "X_train = utils.normalize(X_train, axis=1)\r\n",
        "# Normalize the test dataset\r\n",
        "X_test = utils.normalize(X_test, axis=1)"
      ],
      "outputs": [],
      "metadata": {
        "id": "YE0X0x_RkNRx"
      }
    },
    {
      "cell_type": "code",
      "execution_count": 188,
      "source": [
        "#Build the model object\r\n",
        "model = Sequential()\r\n",
        "# Add the Flatten Layer\r\n",
        "model.add(Flatten())\r\n",
        "# Build the input and the hidden layers\r\n",
        "model.add(Dense(40, activation='relu'))\r\n",
        "# Build the output layer\r\n",
        "model.add(Dense(10, activation='softmax'))\r\n"
      ],
      "outputs": [],
      "metadata": {
        "id": "mAXxrJ7HkO3m"
      }
    },
    {
      "cell_type": "code",
      "execution_count": 189,
      "source": [
        "# Compile the model\r\n",
        "model.compile(optimizer=\"adam\", loss=\"sparse_categorical_crossentropy\", metrics=[\"accuracy\"])"
      ],
      "outputs": [],
      "metadata": {
        "id": "MSou2ZlxkQun"
      }
    },
    {
      "cell_type": "code",
      "execution_count": 190,
      "source": [
        "# This is needed for loading Tensorboard.\r\n",
        "tensorboard_callback = callbacks.TensorBoard(log_dir=\"logs\", histogram_freq=1)"
      ],
      "outputs": [],
      "metadata": {
        "id": "uwt_oT0pkScI"
      }
    },
    {
      "cell_type": "code",
      "execution_count": 175,
      "source": [
        "model.fit(x=X_train, y=y_train, epochs=20, \r\n",
        "          validation_data=(X_test, y_test),\r\n",
        "          callbacks=[tensorboard_callback]) # Start training process"
      ],
      "outputs": [
        {
          "output_type": "stream",
          "name": "stdout",
          "text": [
            "Epoch 1/20\n",
            "   2/1875 [..............................] - ETA: 5:03 - loss: 2.3496 - accuracy: 0.1250WARNING:tensorflow:Callbacks method `on_train_batch_end` is slow compared to the batch time (batch time: 0.0010s vs `on_train_batch_end` time: 0.3233s). Check your callbacks.\n",
            "1875/1875 [==============================] - 1s 601us/step - loss: 0.5568 - accuracy: 0.8035 - val_loss: 0.4701 - val_accuracy: 0.8335\n",
            "Epoch 2/20\n",
            "1875/1875 [==============================] - 1s 402us/step - loss: 0.4035 - accuracy: 0.8537 - val_loss: 0.4275 - val_accuracy: 0.8488\n",
            "Epoch 3/20\n",
            "1875/1875 [==============================] - 1s 415us/step - loss: 0.3685 - accuracy: 0.8668 - val_loss: 0.3927 - val_accuracy: 0.8590\n",
            "Epoch 4/20\n",
            "1875/1875 [==============================] - 1s 395us/step - loss: 0.3462 - accuracy: 0.8740 - val_loss: 0.3795 - val_accuracy: 0.8645\n",
            "Epoch 5/20\n",
            "1875/1875 [==============================] - 1s 384us/step - loss: 0.3289 - accuracy: 0.8796 - val_loss: 0.3870 - val_accuracy: 0.8629\n",
            "Epoch 6/20\n",
            "1875/1875 [==============================] - 1s 368us/step - loss: 0.3183 - accuracy: 0.8837 - val_loss: 0.3688 - val_accuracy: 0.8706\n",
            "Epoch 7/20\n",
            "1875/1875 [==============================] - 1s 366us/step - loss: 0.3075 - accuracy: 0.8865 - val_loss: 0.3702 - val_accuracy: 0.8653\n",
            "Epoch 8/20\n",
            "1875/1875 [==============================] - 1s 384us/step - loss: 0.2984 - accuracy: 0.8900 - val_loss: 0.3603 - val_accuracy: 0.8710\n",
            "Epoch 9/20\n",
            "1875/1875 [==============================] - 1s 367us/step - loss: 0.2920 - accuracy: 0.8920 - val_loss: 0.3761 - val_accuracy: 0.8666\n",
            "Epoch 10/20\n",
            "1875/1875 [==============================] - 1s 388us/step - loss: 0.2833 - accuracy: 0.8957 - val_loss: 0.3650 - val_accuracy: 0.8719\n",
            "Epoch 11/20\n",
            "1875/1875 [==============================] - 1s 378us/step - loss: 0.2769 - accuracy: 0.8981 - val_loss: 0.3657 - val_accuracy: 0.8713\n",
            "Epoch 12/20\n",
            "1875/1875 [==============================] - 1s 373us/step - loss: 0.2703 - accuracy: 0.8993 - val_loss: 0.3566 - val_accuracy: 0.8713\n",
            "Epoch 13/20\n",
            "1875/1875 [==============================] - 1s 369us/step - loss: 0.2642 - accuracy: 0.9011 - val_loss: 0.3527 - val_accuracy: 0.8752\n",
            "Epoch 14/20\n",
            "1875/1875 [==============================] - 1s 358us/step - loss: 0.2587 - accuracy: 0.9041 - val_loss: 0.3660 - val_accuracy: 0.8711\n",
            "Epoch 15/20\n",
            "1875/1875 [==============================] - 1s 365us/step - loss: 0.2536 - accuracy: 0.9064 - val_loss: 0.3654 - val_accuracy: 0.8714\n",
            "Epoch 16/20\n",
            "1875/1875 [==============================] - 1s 361us/step - loss: 0.2498 - accuracy: 0.9068 - val_loss: 0.3606 - val_accuracy: 0.8744\n",
            "Epoch 17/20\n",
            "1875/1875 [==============================] - 1s 360us/step - loss: 0.2448 - accuracy: 0.9090 - val_loss: 0.3640 - val_accuracy: 0.8739\n",
            "Epoch 18/20\n",
            "1875/1875 [==============================] - 1s 364us/step - loss: 0.2397 - accuracy: 0.9109 - val_loss: 0.3767 - val_accuracy: 0.8698\n",
            "Epoch 19/20\n",
            "1875/1875 [==============================] - 1s 366us/step - loss: 0.2356 - accuracy: 0.9136 - val_loss: 0.3776 - val_accuracy: 0.8675\n",
            "Epoch 20/20\n",
            "1875/1875 [==============================] - 1s 375us/step - loss: 0.2326 - accuracy: 0.9134 - val_loss: 0.3717 - val_accuracy: 0.8718\n"
          ]
        },
        {
          "output_type": "execute_result",
          "data": {
            "text/plain": [
              "<tensorflow.python.keras.callbacks.History at 0x1e4da6db6a0>"
            ]
          },
          "metadata": {},
          "execution_count": 175
        }
      ],
      "metadata": {
        "colab": {
          "base_uri": "https://localhost:8080/"
        },
        "id": "IbVTYhDvkTyl",
        "outputId": "eca772e6-caca-4219-ae29-fd4c5c5a1a9c"
      }
    },
    {
      "cell_type": "code",
      "execution_count": 176,
      "source": [
        "model.summary()"
      ],
      "outputs": [
        {
          "output_type": "stream",
          "name": "stdout",
          "text": [
            "Model: \"sequential_12\"\n",
            "_________________________________________________________________\n",
            "Layer (type)                 Output Shape              Param #   \n",
            "=================================================================\n",
            "flatten_12 (Flatten)         (None, 784)               0         \n",
            "_________________________________________________________________\n",
            "dense_29 (Dense)             (None, 40)                31400     \n",
            "_________________________________________________________________\n",
            "dense_30 (Dense)             (None, 10)                410       \n",
            "=================================================================\n",
            "Total params: 31,810\n",
            "Trainable params: 31,810\n",
            "Non-trainable params: 0\n",
            "_________________________________________________________________\n"
          ]
        }
      ],
      "metadata": {
        "colab": {
          "base_uri": "https://localhost:8080/"
        },
        "id": "WUPUsFoRkVD7",
        "outputId": "9d67cf8e-5c09-4528-d3fd-6b5ac301a791"
      }
    },
    {
      "cell_type": "code",
      "execution_count": 177,
      "source": [
        "# Evaluate the model performance\r\n",
        "test_loss, test_acc = model.evaluate(x=X_test, y=y_test, verbose=0)\r\n",
        "# Print out the model accuracy \r\n",
        "print('\\nTest accuracy:', test_acc)"
      ],
      "outputs": [
        {
          "output_type": "stream",
          "name": "stdout",
          "text": [
            "\n",
            "Test accuracy: 0.8718000054359436\n"
          ]
        }
      ],
      "metadata": {
        "colab": {
          "base_uri": "https://localhost:8080/"
        },
        "id": "HGM3I4n6kWkN",
        "outputId": "73763460-f7ea-441d-be20-a1a0ca269afd"
      }
    },
    {
      "cell_type": "code",
      "execution_count": 178,
      "source": [
        "# Save model into MNIST.h5 and we are all done with the training now.\r\n",
        "model.save('MNIST.h5')"
      ],
      "outputs": [],
      "metadata": {
        "id": "Wt19m70nkXb_"
      }
    },
    {
      "cell_type": "code",
      "execution_count": 179,
      "source": [
        "model = models.load_model('MNIST.h5')"
      ],
      "outputs": [],
      "metadata": {
        "id": "EegDB-pMkYbb"
      }
    },
    {
      "cell_type": "code",
      "execution_count": 180,
      "source": [
        "predictions = model.predict(X_test)"
      ],
      "outputs": [],
      "metadata": {
        "id": "jjMlA6vYkZLa"
      }
    },
    {
      "cell_type": "code",
      "execution_count": 181,
      "source": [
        "# function that plots a single image.\r\n",
        "def test_digit(i):\r\n",
        "    plt.imshow(X_test[i], interpolation='none')\r\n",
        "    plt.title(\"digit:%d   prediction: %d\" %(y_test[i], np.argmax(predictions[i])))\r\n",
        "    plt.xticks([])\r\n",
        "    plt.yticks([])"
      ],
      "outputs": [],
      "metadata": {
        "id": "m1sdop_bkaFB"
      }
    },
    {
      "cell_type": "code",
      "execution_count": 182,
      "source": [
        "# let's output the images which were not predicted correctly.\r\n",
        "#for i in range(len(X_test)):\r\n",
        "    #if np.argmax(predictions[i]) != y_test[i]:\r\n",
        "        #test_digit(i)"
      ],
      "outputs": [],
      "metadata": {
        "id": "yWDJ4s-_ka3q"
      }
    }
  ]
}